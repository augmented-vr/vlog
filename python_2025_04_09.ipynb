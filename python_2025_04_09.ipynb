{
  "nbformat": 4,
  "nbformat_minor": 0,
  "metadata": {
    "colab": {
      "provenance": [],
      "include_colab_link": true
    },
    "kernelspec": {
      "name": "python3",
      "display_name": "Python 3"
    },
    "language_info": {
      "name": "python"
    }
  },
  "cells": [
    {
      "cell_type": "markdown",
      "metadata": {
        "id": "view-in-github",
        "colab_type": "text"
      },
      "source": [
        "<a href=\"https://colab.research.google.com/github/augmented-vr/vlog/blob/main/python_2025_04_09.ipynb\" target=\"_parent\"><img src=\"https://colab.research.google.com/assets/colab-badge.svg\" alt=\"Open In Colab\"/></a>"
      ]
    },
    {
      "cell_type": "markdown",
      "source": [
        "# Google Colaboratoryを使用してPythonを勉強しています"
      ],
      "metadata": {
        "id": "xGoewDgOZvYy"
      }
    },
    {
      "cell_type": "markdown",
      "source": [
        "## 文字を出力する\n",
        "print()という関数を使い出力する  \n",
        "数値の出力例  \n",
        "print(123)  \n",
        "\n",
        "文字列の出力例  \n",
        "print(\"こんにちは\")  \n",
        "print('hello,world')  \n",
        "\n",
        "文字列の出力をする際にはダブルクォーテーションかシングルクォーテーションで囲む"
      ],
      "metadata": {
        "id": "ZB1ea_cOaed8"
      }
    },
    {
      "cell_type": "code",
      "execution_count": null,
      "metadata": {
        "colab": {
          "base_uri": "https://localhost:8080/"
        },
        "id": "6Fdt5aXuvbal",
        "outputId": "d9cf286a-7eb7-4db2-cd24-c88e838f3c85"
      },
      "outputs": [
        {
          "output_type": "stream",
          "name": "stdout",
          "text": [
            "123\n"
          ]
        }
      ],
      "source": [
        "print(123)"
      ]
    },
    {
      "cell_type": "code",
      "source": [
        "print(\"こんにちは\")"
      ],
      "metadata": {
        "colab": {
          "base_uri": "https://localhost:8080/"
        },
        "id": "kMrmYAlUyTJp",
        "outputId": "6959ee01-65bb-4297-a76d-1724a3d319fb"
      },
      "execution_count": null,
      "outputs": [
        {
          "output_type": "stream",
          "name": "stdout",
          "text": [
            "こんにちは\n"
          ]
        }
      ]
    },
    {
      "cell_type": "code",
      "source": [
        "print('hello,world')"
      ],
      "metadata": {
        "colab": {
          "base_uri": "https://localhost:8080/"
        },
        "id": "-1dIowdeZa8o",
        "outputId": "7337c510-9b8e-4ce6-c975-c6074b6cc01f"
      },
      "execution_count": null,
      "outputs": [
        {
          "output_type": "stream",
          "name": "stdout",
          "text": [
            "hello,world\n"
          ]
        }
      ]
    },
    {
      "cell_type": "markdown",
      "source": [
        "## 数字の四則演算\n",
        "四則演算には  \n",
        "\\+ (足し算)  \n",
        "\\- (引き算)  \n",
        "\\* (掛け算)  \n",
        "/ (割り算)    \n",
        "を使用する   \n",
        "\n",
        "また割り算のあまりを求めたいときは  \n",
        "%  \n",
        "を使用する  \n",
        "例  \n",
        "\n",
        "1+2  \n",
        "\n",
        "2-1  \n",
        "\n",
        "1*2  \n",
        "\n",
        "4/2  \n",
        "\n",
        "7%3  \n",
        "\n",
        "\n",
        "なお割り算の結果の出力は少数点を含む出力になるので、整数で出力したい場合は、int()という関数を使用することで整数で表示できる  \n",
        "例\n",
        "こちらは「5.0」と出力される   \n",
        "\n",
        "5/1  \n",
        "\n",
        "int()関数を使うと「5」と出力される  \n",
        "\n",
        "int(5/1)  \n",
        "\n",
        "また、小数点を含む結果にint()関数を使用した場合、小数点以下は切り捨てて出力される  \n",
        "例  \n",
        "こちらは「2.8」と出力される  \n",
        "\n",
        "2\\*1.4  \n",
        "\n",
        "int()関数を使うと「2」と出力される  \n",
        "\n",
        "int(2\\*1.4)  \n",
        "\n",
        "割り算の答えが無限小数になる場合は、一定の有効範囲で答えを求めます。  \n",
        "10/3  "
      ],
      "metadata": {
        "id": "abNUOjnxdJmE"
      }
    },
    {
      "cell_type": "code",
      "source": [
        "1+2"
      ],
      "metadata": {
        "id": "xx0jdep-yYPa",
        "colab": {
          "base_uri": "https://localhost:8080/"
        },
        "outputId": "94069b34-c1eb-4eca-aa88-a43f27d0ded3"
      },
      "execution_count": null,
      "outputs": [
        {
          "output_type": "execute_result",
          "data": {
            "text/plain": [
              "3"
            ]
          },
          "metadata": {},
          "execution_count": 5
        }
      ]
    },
    {
      "cell_type": "code",
      "source": [
        "2-1"
      ],
      "metadata": {
        "colab": {
          "base_uri": "https://localhost:8080/"
        },
        "id": "FuFQl_xueDMh",
        "outputId": "3351e27d-7aa5-4de2-ac8f-d8cb37c6a451"
      },
      "execution_count": null,
      "outputs": [
        {
          "output_type": "execute_result",
          "data": {
            "text/plain": [
              "1"
            ]
          },
          "metadata": {},
          "execution_count": 6
        }
      ]
    },
    {
      "cell_type": "code",
      "source": [
        "1*2"
      ],
      "metadata": {
        "colab": {
          "base_uri": "https://localhost:8080/"
        },
        "id": "MifJB3EWeEnT",
        "outputId": "d7d07994-5672-4e3f-bf43-493074147ad7"
      },
      "execution_count": null,
      "outputs": [
        {
          "output_type": "execute_result",
          "data": {
            "text/plain": [
              "2"
            ]
          },
          "metadata": {},
          "execution_count": 7
        }
      ]
    },
    {
      "cell_type": "code",
      "source": [
        "4/2"
      ],
      "metadata": {
        "colab": {
          "base_uri": "https://localhost:8080/"
        },
        "id": "CkmPdxUjeMr5",
        "outputId": "3276bb6c-54dd-490c-d762-670ba214b013"
      },
      "execution_count": null,
      "outputs": [
        {
          "output_type": "execute_result",
          "data": {
            "text/plain": [
              "2.0"
            ]
          },
          "metadata": {},
          "execution_count": 8
        }
      ]
    },
    {
      "cell_type": "code",
      "source": [
        "1%2"
      ],
      "metadata": {
        "colab": {
          "base_uri": "https://localhost:8080/"
        },
        "id": "NPh_9-YDeOKD",
        "outputId": "1155fa5a-8822-4161-89e2-0e466e0ca270"
      },
      "execution_count": null,
      "outputs": [
        {
          "output_type": "execute_result",
          "data": {
            "text/plain": [
              "1"
            ]
          },
          "metadata": {},
          "execution_count": 11
        }
      ]
    },
    {
      "cell_type": "code",
      "source": [
        "7%3"
      ],
      "metadata": {
        "colab": {
          "base_uri": "https://localhost:8080/"
        },
        "id": "GSrfhyqUeZw0",
        "outputId": "ac66a297-1143-49ae-f91d-32233a4d43df"
      },
      "execution_count": null,
      "outputs": [
        {
          "output_type": "execute_result",
          "data": {
            "text/plain": [
              "1"
            ]
          },
          "metadata": {},
          "execution_count": 12
        }
      ]
    },
    {
      "cell_type": "code",
      "source": [
        "5/1"
      ],
      "metadata": {
        "colab": {
          "base_uri": "https://localhost:8080/"
        },
        "id": "BgVG052KedYy",
        "outputId": "a0b814b8-d9b5-4287-ab7f-6b535ce7761d"
      },
      "execution_count": null,
      "outputs": [
        {
          "output_type": "execute_result",
          "data": {
            "text/plain": [
              "5.0"
            ]
          },
          "metadata": {},
          "execution_count": 17
        }
      ]
    },
    {
      "cell_type": "code",
      "source": [
        "int(5/1)"
      ],
      "metadata": {
        "colab": {
          "base_uri": "https://localhost:8080/"
        },
        "id": "nysAMdtvfJy6",
        "outputId": "1f7c95d6-6dd7-4cf3-ecd7-59d7f3b81042"
      },
      "execution_count": null,
      "outputs": [
        {
          "output_type": "execute_result",
          "data": {
            "text/plain": [
              "5"
            ]
          },
          "metadata": {},
          "execution_count": 18
        }
      ]
    },
    {
      "cell_type": "code",
      "source": [
        "2*1.4"
      ],
      "metadata": {
        "colab": {
          "base_uri": "https://localhost:8080/"
        },
        "id": "Y7tZNQZAgq3K",
        "outputId": "57768e63-aad2-4e80-e7f8-beb32c84d8df"
      },
      "execution_count": null,
      "outputs": [
        {
          "output_type": "execute_result",
          "data": {
            "text/plain": [
              "2.8"
            ]
          },
          "metadata": {},
          "execution_count": 22
        }
      ]
    },
    {
      "cell_type": "code",
      "source": [
        "int(2*1.4)"
      ],
      "metadata": {
        "colab": {
          "base_uri": "https://localhost:8080/"
        },
        "id": "er60tO7DgfIt",
        "outputId": "86ea86a8-87d4-4f0e-a621-567aa72e3486"
      },
      "execution_count": null,
      "outputs": [
        {
          "output_type": "execute_result",
          "data": {
            "text/plain": [
              "2"
            ]
          },
          "metadata": {},
          "execution_count": 19
        }
      ]
    },
    {
      "cell_type": "code",
      "source": [
        "10/3"
      ],
      "metadata": {
        "colab": {
          "base_uri": "https://localhost:8080/"
        },
        "id": "BRvApoF8rQEJ",
        "outputId": "e07d3d34-a458-42b2-ab7f-e86d84488327"
      },
      "execution_count": null,
      "outputs": [
        {
          "output_type": "execute_result",
          "data": {
            "text/plain": [
              "3.3333333333333335"
            ]
          },
          "metadata": {},
          "execution_count": 32
        }
      ]
    },
    {
      "cell_type": "markdown",
      "source": [
        "## 複数の演算子を使った計算\n",
        "式には複数の演算子を使うことができます。演算は基本的には左から順に計算しますが、優先順位があり掛け算や割り算は足し算、引き算より優先して計算されます。  \n",
        "掛け算をする前に足し算をしたい場合などは括弧 () を使用することで計算できます。  \n",
        "\n",
        "例  \n",
        "\n",
        "print(2+5*10)  \n",
        "\n",
        "print((2+5)*10)\n"
      ],
      "metadata": {
        "id": "_EiJ1hFCrVuB"
      }
    },
    {
      "cell_type": "code",
      "source": [
        "print(2+5*10)\n",
        "\n",
        "print((2+5)*10)"
      ],
      "metadata": {
        "colab": {
          "base_uri": "https://localhost:8080/"
        },
        "id": "El0O-xSBtkuE",
        "outputId": "cd1c0f32-b90b-4b69-e6dd-b01c098c3356"
      },
      "execution_count": null,
      "outputs": [
        {
          "output_type": "stream",
          "name": "stdout",
          "text": [
            "52\n",
            "70\n"
          ]
        }
      ]
    },
    {
      "cell_type": "markdown",
      "source": [
        "## 変数\n",
        "変数はデータを入れておく箱。計算結果や文字列を保存しておくためなどに使用する。変数を使用するには  \n",
        "\n",
        "変数の名前 = データ  \n",
        "\n",
        "のように入力することで使用する  \n",
        "例  \n",
        "a = 5  \n",
        "print(a)  \n",
        "\n",
        "ans = 2 * 5  \n",
        "print(ans)  \n",
        "\n",
        "str = \"文字列を変数に入れるテスト\"  \n",
        "print(str)\n",
        "\n",
        "\n"
      ],
      "metadata": {
        "id": "ZnzEupKpjjxv"
      }
    },
    {
      "cell_type": "code",
      "source": [
        "a = 5\n",
        "print(a)"
      ],
      "metadata": {
        "colab": {
          "base_uri": "https://localhost:8080/"
        },
        "id": "TwEJiG9Wk4WW",
        "outputId": "564ca92d-ee6b-4935-c3ff-38257de51efd"
      },
      "execution_count": null,
      "outputs": [
        {
          "output_type": "stream",
          "name": "stdout",
          "text": [
            "5\n"
          ]
        }
      ]
    },
    {
      "cell_type": "code",
      "source": [
        "ans = 2 * 5\n",
        "print(ans)"
      ],
      "metadata": {
        "colab": {
          "base_uri": "https://localhost:8080/"
        },
        "id": "85pzXzMak6xD",
        "outputId": "0dad210a-8003-423a-d537-ffa0c38886bb"
      },
      "execution_count": null,
      "outputs": [
        {
          "output_type": "stream",
          "name": "stdout",
          "text": [
            "10\n"
          ]
        }
      ]
    },
    {
      "cell_type": "code",
      "source": [
        "str = \"文字列を変数に入れるテスト\"\n",
        "print(str)"
      ],
      "metadata": {
        "colab": {
          "base_uri": "https://localhost:8080/"
        },
        "id": "qMruwOOpk_vL",
        "outputId": "17559a60-20fb-46f9-b31d-905ec4cc2edc"
      },
      "execution_count": null,
      "outputs": [
        {
          "output_type": "stream",
          "name": "stdout",
          "text": [
            "文字列を変数に入れるテスト\n"
          ]
        }
      ]
    },
    {
      "cell_type": "markdown",
      "source": [
        "## コメント\n",
        "プログラムの中にコメントを残したいというときがあった場合は\\#を使用することで、\\#が書かれている行は\\#が書かれている先からはプログラムに書かれていないかのように実行されます。  \n",
        "例  \n",
        "\n",
        "\\#この文章は書かれていないかのように動きます  \n",
        "print(1+2+3)  \n",
        "print(1\\*2\\*3)  \n",
        "\n",
        "また、これを利用することで一時的に実行してほしくないプログラムをコメントにして除外することもできます。これをコメントアウトと言います。  \n",
        "例  \n",
        "\n",
        "\\#コメントアウト練習  \n",
        "\\#print(\"こんにちは\")  \n",
        "print(\"hello\")  \n",
        "\n",
        "複数行をコメントにしたい場合は、シングルクォーテーションかダブルクォーテーション三つで囲むことでできます。  \n",
        "例  \n",
        "\n",
        "\"\"\"  \n",
        "print(1)  \n",
        "print(2)  \n",
        "print(3)  \n",
        "print(4)  \n",
        "\"\"\"  \n",
        "print(5)  \n",
        "\n",
        "例  \n",
        "\n",
        "'''  \n",
        "print(1)  \n",
        "print(2)  \n",
        "print(3)  \n",
        "'''  \n",
        "print(4)  \n",
        "print(5)  \n"
      ],
      "metadata": {
        "id": "FVgw5DOGlhi-"
      }
    },
    {
      "cell_type": "code",
      "source": [
        "#この文章は書かれていないかのように動きます\n",
        "print(1+2+3)\n",
        "print(1*2*3)"
      ],
      "metadata": {
        "colab": {
          "base_uri": "https://localhost:8080/"
        },
        "id": "IXJDEJZXlPAT",
        "outputId": "b0a5d544-4099-4662-e028-7260d4788251"
      },
      "execution_count": null,
      "outputs": [
        {
          "output_type": "stream",
          "name": "stdout",
          "text": [
            "6\n",
            "6\n"
          ]
        }
      ]
    },
    {
      "cell_type": "code",
      "source": [
        "#コメントアウト練習\n",
        "#print(\"こんにちは\")\n",
        "print(\"hello\")"
      ],
      "metadata": {
        "colab": {
          "base_uri": "https://localhost:8080/"
        },
        "id": "R4bHs_Ebnvr5",
        "outputId": "27894a07-7940-40c0-b70c-7867ff2789e2"
      },
      "execution_count": null,
      "outputs": [
        {
          "output_type": "stream",
          "name": "stdout",
          "text": [
            "hello\n"
          ]
        }
      ]
    },
    {
      "cell_type": "code",
      "source": [
        "\"\"\"\n",
        "print(1)\n",
        "print(2)\n",
        "print(3)\n",
        "print(4)\n",
        "\"\"\"\n",
        "print(5)"
      ],
      "metadata": {
        "colab": {
          "base_uri": "https://localhost:8080/"
        },
        "id": "U7_E9-xpo6kc",
        "outputId": "1fb27ddc-8264-4871-9929-481518e2991d"
      },
      "execution_count": null,
      "outputs": [
        {
          "output_type": "stream",
          "name": "stdout",
          "text": [
            "5\n"
          ]
        }
      ]
    },
    {
      "cell_type": "code",
      "source": [
        "'''\n",
        "print(1)\n",
        "print(2)\n",
        "print(3)\n",
        "'''\n",
        "print(4)\n",
        "print(5)"
      ],
      "metadata": {
        "colab": {
          "base_uri": "https://localhost:8080/"
        },
        "id": "6WJ_t6pDqWmC",
        "outputId": "da6ae6f7-c8c2-49a2-f5be-525a583db227"
      },
      "execution_count": null,
      "outputs": [
        {
          "output_type": "stream",
          "name": "stdout",
          "text": [
            "4\n",
            "5\n"
          ]
        }
      ]
    },
    {
      "cell_type": "code",
      "source": [],
      "metadata": {
        "id": "4BpF-h2Mqa14"
      },
      "execution_count": null,
      "outputs": []
    }
  ]
}